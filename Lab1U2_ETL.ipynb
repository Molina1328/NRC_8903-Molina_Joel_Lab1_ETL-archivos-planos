{
 "cells": [
  {
   "cell_type": "markdown",
   "id": "e812015f",
   "metadata": {},
   "source": [
    "# Implementación del proceso ETL usando Python (archivos planos)"
   ]
  },
  {
   "cell_type": "markdown",
   "id": "3b625dff",
   "metadata": {},
   "source": [
    "## Librerías"
   ]
  },
  {
   "cell_type": "code",
   "execution_count": 1,
   "id": "1d417b81",
   "metadata": {},
   "outputs": [],
   "source": [
    "import glob \n",
    "import pandas as pd \n",
    "import xml.etree.ElementTree as ET \n",
    "from datetime import datetime\n",
    "import requests\n",
    "from zipfile import ZipFile"
   ]
  },
  {
   "cell_type": "markdown",
   "id": "98cf0a47",
   "metadata": {},
   "source": [
    "## Obtener datos"
   ]
  },
  {
   "cell_type": "code",
   "execution_count": 3,
   "id": "3b849f9f",
   "metadata": {},
   "outputs": [],
   "source": [
    "def get_data():\n",
    "    # Definimos el archivo remoto para recuperar\n",
    "    remote_url = 'http://cf-courses-data.s3.us.cloud-object-storage.appdomain.cloud/IBMDeveloperSkillsNetwork-PY0221EN-SkillsNetwork/labs/module%206/Lab%20-%20Extract%20Transform%20Load/data/datasource.zip'\n",
    "    # Definimos el nombre del archivo local para guardar datos\n",
    "    local_file = 'datasource.zip'\n",
    "    # Realizamos una solicitud http para datos de archivos remotos\n",
    "    data = requests.get(remote_url)\n",
    "    # Guardamos los datos del archivo en una copia local\n",
    "    with open(local_file, 'wb') as f:\n",
    "        f.write(data.content)\n",
    "    with ZipFile(local_file, 'r') as zipObj:\n",
    "        #Extraemos todo el contenido del archivo zip en un directorio diferente\n",
    "        zipObj.extractall('dealership_data')"
   ]
  },
  {
   "cell_type": "markdown",
   "id": "6abc60af",
   "metadata": {},
   "source": [
    "## Extraer (Extract)"
   ]
  },
  {
   "cell_type": "markdown",
   "id": "70d9fc76",
   "metadata": {},
   "source": [
    "### Archivos CSV"
   ]
  },
  {
   "cell_type": "code",
   "execution_count": 4,
   "id": "a42a7660",
   "metadata": {},
   "outputs": [],
   "source": [
    "# Definimos el metodo para extraer archivos csv\n",
    "def extract_from_csv(file_to_process): \n",
    "    dataframe = pd.read_csv(file_to_process) \n",
    "    return dataframe"
   ]
  },
  {
   "cell_type": "markdown",
   "id": "f240f0d2",
   "metadata": {},
   "source": [
    "### Archivos JSON"
   ]
  },
  {
   "cell_type": "code",
   "execution_count": 5,
   "id": "d355dce2",
   "metadata": {},
   "outputs": [],
   "source": [
    "# Definimos el metodo para extraer archivos JSON\n",
    "def extract_from_json(file_to_process):\n",
    "    dataframe = pd.read_json(file_to_process, lines=True)\n",
    "    return dataframe"
   ]
  },
  {
   "cell_type": "markdown",
   "id": "71dba389",
   "metadata": {},
   "source": [
    "### Archivos XML"
   ]
  },
  {
   "cell_type": "code",
   "execution_count": 6,
   "id": "86e339a2",
   "metadata": {},
   "outputs": [],
   "source": [
    "#definimos el metodo para extraer archivos XML\n",
    "def extract_from_xml(file_to_process):\n",
    "    dataframe = pd.DataFrame(columns=['car_model','year_of_manufacture','price', 'fuel'])\n",
    "    tree = ET.parse(file_to_process) \n",
    "    root = tree.getroot() \n",
    "    for person in root: \n",
    "        car_model = person.find(\"car_model\").text \n",
    "        year_of_manufacture = int(person.find(\"year_of_manufacture\").text)\n",
    "        price = float(person.find(\"price\").text) \n",
    "        fuel = person.find(\"fuel\").text \n",
    "        dataframe = dataframe.append({\"car_model\":car_model, \"year_of_manufacture\":year_of_manufacture, \"price\":price, \"fuel\":fuel}, ignore_index=True) \n",
    "    return dataframe"
   ]
  },
  {
   "cell_type": "markdown",
   "id": "c509c8d1",
   "metadata": {},
   "source": [
    "### Función extract()"
   ]
  },
  {
   "cell_type": "code",
   "execution_count": 7,
   "id": "51f399ba",
   "metadata": {},
   "outputs": [],
   "source": [
    "def extract():\n",
    "    extracted_data = pd.DataFrame(columns=['car_model','year_of_manufacture','price', 'fuel']) \n",
    "    #para archivos csv\n",
    "    for csvfile in glob.glob(\"dealership_data/*.csv\"):\n",
    "        extracted_data = extracted_data.append(extract_from_csv(csvfile), ignore_index=True)\n",
    "    #para archivos json\n",
    "    for jsonfile in glob.glob(\"dealership_data/*.json\"):\n",
    "        extracted_data = extracted_data.append(extract_from_json(jsonfile), ignore_index=True)\n",
    "    #para archivos xml\n",
    "    for xmlfile in glob.glob(\"dealership_data/*.xml\"):\n",
    "        extracted_data = extracted_data.append(extract_from_xml(xmlfile), ignore_index=True)\n",
    "    return extracted_data"
   ]
  },
  {
   "cell_type": "markdown",
   "id": "0be7dca3",
   "metadata": {},
   "source": [
    "## Transformar (transform)"
   ]
  },
  {
   "cell_type": "code",
   "execution_count": 8,
   "id": "fdc59ab7",
   "metadata": {},
   "outputs": [],
   "source": [
    "#Convierte la altura de la columna, que está en pulgadas, a milímetros y la columna de libras, que está en libras, a kilogramos, y devolverá los resultados en los datos variables.\n",
    "def transform(data):\n",
    "    data['price'] = round(data.price, 2)\n",
    "    return data"
   ]
  },
  {
   "cell_type": "markdown",
   "id": "ab769d1a",
   "metadata": {},
   "source": [
    "## Carga y registro (Upload and registration)"
   ]
  },
  {
   "cell_type": "markdown",
   "id": "aa1b527a",
   "metadata": {},
   "source": [
    "### función de carga (load)"
   ]
  },
  {
   "cell_type": "code",
   "execution_count": 9,
   "id": "e618dc64",
   "metadata": {},
   "outputs": [],
   "source": [
    "def load(targetfile, data_to_load):\n",
    "    data_to_load.to_csv(targetfile)"
   ]
  },
  {
   "cell_type": "markdown",
   "id": "7711f792",
   "metadata": {},
   "source": [
    "### función de registro (log)"
   ]
  },
  {
   "cell_type": "code",
   "execution_count": 10,
   "id": "be3bad0b",
   "metadata": {},
   "outputs": [],
   "source": [
    "def log(logfile, message):\n",
    "    timestamp_format = '%H:%M:%S-%h-%d-%Y'\n",
    "    #Hour-Minute-Second-MonthName-Day-Year\n",
    "    now = datetime.now() # get current timestamp\n",
    "    timestamp = now.strftime(timestamp_format)\n",
    "    with open(logfile,\"a\") as f: \n",
    "        f.write('[' + timestamp + ']: ' + message + '\\n')\n",
    "        print(message)"
   ]
  },
  {
   "cell_type": "markdown",
   "id": "dfd762f3",
   "metadata": {},
   "source": [
    "## Ejecución del proceso ETL"
   ]
  },
  {
   "cell_type": "code",
   "execution_count": 11,
   "id": "f307da07",
   "metadata": {},
   "outputs": [
    {
     "name": "stdout",
     "output_type": "stream",
     "text": [
      "Download Used Car Data\n",
      "ETL Job Started\n",
      "Extract phase Started\n",
      "        car_model year_of_manufacture         price    fuel\n",
      "0            ritz                2014   5000.000000  Petrol\n",
      "1             sx4                2013   7089.552239  Diesel\n",
      "2            ciaz                2017  10820.895522  Petrol\n",
      "3         wagon r                2011   4253.731343  Petrol\n",
      "4           swift                2014   6865.671642  Diesel\n",
      "..            ...                 ...           ...     ...\n",
      "85          camry                2006   3731.343284  Petrol\n",
      "86   land cruiser                2010  52238.805970  Diesel\n",
      "87  corolla altis                2012   8805.970149  Petrol\n",
      "88     etios liva                2013   5149.253731  Petrol\n",
      "89        etios g                2014   7089.552239  Petrol\n",
      "\n",
      "[90 rows x 4 columns]\n",
      "Extract phase Ended\n",
      "Transform phase Started\n",
      "Transform phase Ended\n",
      "Load phase Started\n",
      "Load phase Ended\n",
      "        car_model year_of_manufacture     price    fuel\n",
      "0            ritz                2014   5000.00  Petrol\n",
      "1             sx4                2013   7089.55  Diesel\n",
      "2            ciaz                2017  10820.90  Petrol\n",
      "3         wagon r                2011   4253.73  Petrol\n",
      "4           swift                2014   6865.67  Diesel\n",
      "..            ...                 ...       ...     ...\n",
      "85          camry                2006   3731.34  Petrol\n",
      "86   land cruiser                2010  52238.81  Diesel\n",
      "87  corolla altis                2012   8805.97  Petrol\n",
      "88     etios liva                2013   5149.25  Petrol\n",
      "89        etios g                2014   7089.55  Petrol\n",
      "\n",
      "[90 rows x 4 columns]\n",
      "ETL Job Started\n"
     ]
    }
   ],
   "source": [
    "if __name__ == '__main__':\n",
    "\n",
    "    logfile    = \"dealership_logfile.txt\"            # todos los registros de eventos se almacenarán\n",
    "    targetfile = \"dealership_transformed_data.csv\"   # los datos transformados se almacenan\n",
    "\n",
    "    log(logfile, \"Download Used Car Data\")\n",
    "    get_data()\n",
    "    \n",
    "    log(logfile, \"ETL Job Started\")\n",
    "\n",
    "    log(logfile, \"Extract phase Started\")\n",
    "    extracted_data = extract() \n",
    "    print(extracted_data)\n",
    "    log(logfile, \"Extract phase Ended\")\n",
    "\n",
    "    log(logfile, \"Transform phase Started\")\n",
    "    transformed_data = transform(extracted_data)\n",
    "    log(logfile, \"Transform phase Ended\")\n",
    "\n",
    "    log(logfile, \"Load phase Started\")\n",
    "    load(targetfile, transformed_data)\n",
    "    log(logfile, \"Load phase Ended\")\n",
    "    print(transformed_data)\n",
    "    log(logfile, \"ETL Job Started\")"
   ]
  },
  {
   "cell_type": "code",
   "execution_count": null,
   "id": "f4d466de",
   "metadata": {},
   "outputs": [],
   "source": []
  }
 ],
 "metadata": {
  "kernelspec": {
   "display_name": "Python 3 (ipykernel)",
   "language": "python",
   "name": "python3"
  },
  "language_info": {
   "codemirror_mode": {
    "name": "ipython",
    "version": 3
   },
   "file_extension": ".py",
   "mimetype": "text/x-python",
   "name": "python",
   "nbconvert_exporter": "python",
   "pygments_lexer": "ipython3",
   "version": "3.9.7"
  }
 },
 "nbformat": 4,
 "nbformat_minor": 5
}
